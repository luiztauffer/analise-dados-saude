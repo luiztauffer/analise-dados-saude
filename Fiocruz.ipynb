{
 "cells": [
  {
   "cell_type": "code",
   "execution_count": 4,
   "id": "1649e6aa",
   "metadata": {},
   "outputs": [],
   "source": [
    "import pandas as pd\n",
    "import numpy as np\n",
    "import matplotlib.pyplot as plt \n",
    "import seaborn as sns\n",
    "import warnings\n",
    "import re\n",
    "from matplotlib import colors\n",
    "from matplotlib.ticker import PercentFormatter\n",
    "warnings.filterwarnings('ignore')"
   ]
  },
  {
   "cell_type": "code",
   "execution_count": null,
   "id": "affb8753",
   "metadata": {},
   "outputs": [],
   "source": [
    "#DESCRIÇÃO ATIVIDADE 1: \n",
    "#Auxiliar na verificação da consistência das bases de receitas, por meio da comparação das informações no SIOPS com \n",
    "#informações no SIGABRASIL, Finbra (contas anuais e RREO), SIOPE e nos portais de transparência"
   ]
  },
  {
   "cell_type": "code",
   "execution_count": 2,
   "id": "2531b2c9",
   "metadata": {},
   "outputs": [],
   "source": [
    "#PRODUTO:\n",
    "#Relatório com análise da consistência das receitas dos três entes federativos - com foco nos dados contidos no SIOPS – \n",
    "#e com análise após tratamento das variáveis"
   ]
  },
  {
   "cell_type": "code",
   "execution_count": 3,
   "id": "2f480b1a",
   "metadata": {},
   "outputs": [],
   "source": [
    "#PRAZO: 01/NOVEMBRO"
   ]
  },
  {
   "cell_type": "code",
   "execution_count": null,
   "id": "5bc207a1",
   "metadata": {},
   "outputs": [],
   "source": []
  },
  {
   "cell_type": "code",
   "execution_count": null,
   "id": "f822ba87",
   "metadata": {},
   "outputs": [],
   "source": [
    "#Receitas que formam a base de cálculo do mínimo em ASPS:\n",
    "    #a) 15% do ISS + IPTU + ITBI\n",
    "    #b) 15% da quota-parte do FPM + quota-parte do ITR + quota-parte da Lei Kandir + IRRF + quota-parte do ICMS + \n",
    "        #quota-parte do IPVA + quota-parte do IPI Exportação\n",
    "    #c) 15% de outras receitas correntes (receita da dívida ativa tributária de impostos, multas, juros de mora e correção \n",
    "        #monetária)"
   ]
  },
  {
   "cell_type": "markdown",
   "id": "af92d813",
   "metadata": {},
   "source": [
    "# Teste: Campinas (2019)"
   ]
  },
  {
   "cell_type": "markdown",
   "id": "a0d04c35",
   "metadata": {},
   "source": [
    "## Finbra (f)"
   ]
  },
  {
   "cell_type": "code",
   "execution_count": 20,
   "id": "96dd266d",
   "metadata": {},
   "outputs": [],
   "source": [
    "finbra_rec17 = pd.read_csv('C:\\\\Users\\\\Gabriel\\\\Desktop\\\\FINBRA\\\\Contas anuais\\\\encode\\\\receitas_2017.csv', sep=';', error_bad_lines=False, skiprows=3, header=0)\n",
    "finbra_rec18 = pd.read_csv('C:\\\\Users\\\\Gabriel\\\\Desktop\\\\FINBRA\\\\Contas anuais\\\\encode\\\\receitas_2018.csv', sep=';', error_bad_lines=False, skiprows=3, header=0)\n",
    "finbra_rec19 = pd.read_csv('C:\\\\Users\\\\Gabriel\\\\Desktop\\\\FINBRA\\\\Contas anuais\\\\encode\\\\receitas_2019.csv', sep=';', error_bad_lines=False, skiprows=3, header=0)\n",
    "finbra_rec20 = pd.read_csv('C:\\\\Users\\\\Gabriel\\\\Desktop\\\\FINBRA\\\\Contas anuais\\\\encode\\\\receitas_2020.csv', sep=';', error_bad_lines=False, skiprows=3, header=0)"
   ]
  },
  {
   "cell_type": "markdown",
   "id": "2e9b5a44",
   "metadata": {},
   "source": [
    "### Configurando a base do Finbra"
   ]
  },
  {
   "cell_type": "code",
   "execution_count": 21,
   "id": "5d5e765e",
   "metadata": {},
   "outputs": [],
   "source": [
    "bases = [finbra_rec17, finbra_rec18, finbra_rec19, finbra_rec20]\n",
    "f_rec = []\n",
    "\n",
    "for df in bases:\n",
    "    df['Valor'] = df['Valor'].str.replace(',','.')\n",
    "    df['Valor'] = df['Valor'].astype('float')\n",
    "    df['Cod.IBGE'] = df['Cod.IBGE'].astype('str').str[:-1].astype('int64')\n",
    "    f_rec.append(df)"
   ]
  },
  {
   "cell_type": "code",
   "execution_count": 22,
   "id": "0c2dfadc",
   "metadata": {},
   "outputs": [],
   "source": [
    "f_rec[0] = f_rec17\n",
    "f_rec[1] = f_rec18\n",
    "f_rec[2] = f_rec19\n",
    "f_rec[3] = f_rec20"
   ]
  },
  {
   "cell_type": "code",
   "execution_count": 24,
   "id": "20117b28",
   "metadata": {},
   "outputs": [
    {
     "data": {
      "text/html": [
       "<div>\n",
       "<style scoped>\n",
       "    .dataframe tbody tr th:only-of-type {\n",
       "        vertical-align: middle;\n",
       "    }\n",
       "\n",
       "    .dataframe tbody tr th {\n",
       "        vertical-align: top;\n",
       "    }\n",
       "\n",
       "    .dataframe thead th {\n",
       "        text-align: right;\n",
       "    }\n",
       "</style>\n",
       "<table border=\"1\" class=\"dataframe\">\n",
       "  <thead>\n",
       "    <tr style=\"text-align: right;\">\n",
       "      <th></th>\n",
       "      <th>Instituição</th>\n",
       "      <th>Cod.IBGE</th>\n",
       "      <th>UF</th>\n",
       "      <th>População</th>\n",
       "      <th>Coluna</th>\n",
       "      <th>Conta</th>\n",
       "      <th>Valor</th>\n",
       "    </tr>\n",
       "  </thead>\n",
       "  <tbody>\n",
       "    <tr>\n",
       "      <th>445260</th>\n",
       "      <td>Prefeitura Municipal de Campinas - SP</td>\n",
       "      <td>350950</td>\n",
       "      <td>SP</td>\n",
       "      <td>1194094</td>\n",
       "      <td>Receitas Brutas Realizadas</td>\n",
       "      <td>1.1.1.8.01.1.0 Imposto sobre a Propriedade Pre...</td>\n",
       "      <td>9.355938e+08</td>\n",
       "    </tr>\n",
       "    <tr>\n",
       "      <th>445261</th>\n",
       "      <td>Prefeitura Municipal de Campinas - SP</td>\n",
       "      <td>350950</td>\n",
       "      <td>SP</td>\n",
       "      <td>1194094</td>\n",
       "      <td>Receitas Brutas Realizadas</td>\n",
       "      <td>1.1.1.8.01.4.0 Imposto sobre Transmissão ¿Inte...</td>\n",
       "      <td>1.721514e+08</td>\n",
       "    </tr>\n",
       "    <tr>\n",
       "      <th>445262</th>\n",
       "      <td>Prefeitura Municipal de Campinas - SP</td>\n",
       "      <td>350950</td>\n",
       "      <td>SP</td>\n",
       "      <td>1194094</td>\n",
       "      <td>Receitas Brutas Realizadas</td>\n",
       "      <td>1.1.1.8.02.0.0 Impostos sobre a Produção, Circ...</td>\n",
       "      <td>1.258219e+09</td>\n",
       "    </tr>\n",
       "  </tbody>\n",
       "</table>\n",
       "</div>"
      ],
      "text/plain": [
       "                                  Instituição  Cod.IBGE  UF  População  \\\n",
       "445260  Prefeitura Municipal de Campinas - SP    350950  SP    1194094   \n",
       "445261  Prefeitura Municipal de Campinas - SP    350950  SP    1194094   \n",
       "445262  Prefeitura Municipal de Campinas - SP    350950  SP    1194094   \n",
       "\n",
       "                            Coluna  \\\n",
       "445260  Receitas Brutas Realizadas   \n",
       "445261  Receitas Brutas Realizadas   \n",
       "445262  Receitas Brutas Realizadas   \n",
       "\n",
       "                                                    Conta         Valor  \n",
       "445260  1.1.1.8.01.1.0 Imposto sobre a Propriedade Pre...  9.355938e+08  \n",
       "445261  1.1.1.8.01.4.0 Imposto sobre Transmissão ¿Inte...  1.721514e+08  \n",
       "445262  1.1.1.8.02.0.0 Impostos sobre a Produção, Circ...  1.258219e+09  "
      ]
     },
     "execution_count": 24,
     "metadata": {},
     "output_type": "execute_result"
    }
   ],
   "source": [
    "#A) RECEITAS PRÓPRIAS (IPTU, ISS, ITBI)\n",
    "\n",
    "f_rec19[f_rec19['Cod.IBGE'] == 350950][f_rec19['Coluna'] == 'Receitas Brutas Realizadas'][f_rec19['Conta'].str.match('1.1.1.8.01.1.0 Imposto sobre a Propriedade Predial e Territorial Urbana')\n",
    "                                       | f_rec19['Conta'].str.match('1.1.1.8.01.4.0 Imposto sobre Transmissão ¿Inter Vivos¿ de Bens Imóveis e de Direitos Reais sobre Imóveis')\n",
    "                                       | f_rec19['Conta'].str.match('1.1.1.8.02.0.0 Impostos sobre a Produção, Circulação de Mercadorias e Serviços')]"
   ]
  },
  {
   "cell_type": "code",
   "execution_count": 25,
   "id": "28c4415a",
   "metadata": {},
   "outputs": [
    {
     "data": {
      "text/html": [
       "<div>\n",
       "<style scoped>\n",
       "    .dataframe tbody tr th:only-of-type {\n",
       "        vertical-align: middle;\n",
       "    }\n",
       "\n",
       "    .dataframe tbody tr th {\n",
       "        vertical-align: top;\n",
       "    }\n",
       "\n",
       "    .dataframe thead th {\n",
       "        text-align: right;\n",
       "    }\n",
       "</style>\n",
       "<table border=\"1\" class=\"dataframe\">\n",
       "  <thead>\n",
       "    <tr style=\"text-align: right;\">\n",
       "      <th></th>\n",
       "      <th>Instituição</th>\n",
       "      <th>Cod.IBGE</th>\n",
       "      <th>UF</th>\n",
       "      <th>População</th>\n",
       "      <th>Coluna</th>\n",
       "      <th>Conta</th>\n",
       "      <th>Valor</th>\n",
       "    </tr>\n",
       "  </thead>\n",
       "  <tbody>\n",
       "    <tr>\n",
       "      <th>445255</th>\n",
       "      <td>Prefeitura Municipal de Campinas - SP</td>\n",
       "      <td>350950</td>\n",
       "      <td>SP</td>\n",
       "      <td>1194094</td>\n",
       "      <td>Receitas Brutas Realizadas</td>\n",
       "      <td>1.1.1.3.03.0.0 - Imposto sobre a Renda - Retid...</td>\n",
       "      <td>2.742424e+08</td>\n",
       "    </tr>\n",
       "    <tr>\n",
       "      <th>445311</th>\n",
       "      <td>Prefeitura Municipal de Campinas - SP</td>\n",
       "      <td>350950</td>\n",
       "      <td>SP</td>\n",
       "      <td>1194094</td>\n",
       "      <td>Receitas Brutas Realizadas</td>\n",
       "      <td>1.7.1.8.01.2.0 Cota-Parte do Fundo de Particip...</td>\n",
       "      <td>7.843389e+07</td>\n",
       "    </tr>\n",
       "    <tr>\n",
       "      <th>445312</th>\n",
       "      <td>Prefeitura Municipal de Campinas - SP</td>\n",
       "      <td>350950</td>\n",
       "      <td>SP</td>\n",
       "      <td>1194094</td>\n",
       "      <td>Receitas Brutas Realizadas</td>\n",
       "      <td>1.7.1.8.01.5.0 Cota-Parte do Imposto Sobre a P...</td>\n",
       "      <td>2.033222e+06</td>\n",
       "    </tr>\n",
       "    <tr>\n",
       "      <th>445337</th>\n",
       "      <td>Prefeitura Municipal de Campinas - SP</td>\n",
       "      <td>350950</td>\n",
       "      <td>SP</td>\n",
       "      <td>1194094</td>\n",
       "      <td>Receitas Brutas Realizadas</td>\n",
       "      <td>1.7.2.8.01.1.0 Cota-Parte do ICMS</td>\n",
       "      <td>1.002212e+09</td>\n",
       "    </tr>\n",
       "    <tr>\n",
       "      <th>445338</th>\n",
       "      <td>Prefeitura Municipal de Campinas - SP</td>\n",
       "      <td>350950</td>\n",
       "      <td>SP</td>\n",
       "      <td>1194094</td>\n",
       "      <td>Receitas Brutas Realizadas</td>\n",
       "      <td>1.7.2.8.01.2.0 Cota-Parte do IPVA</td>\n",
       "      <td>3.044816e+08</td>\n",
       "    </tr>\n",
       "    <tr>\n",
       "      <th>445339</th>\n",
       "      <td>Prefeitura Municipal de Campinas - SP</td>\n",
       "      <td>350950</td>\n",
       "      <td>SP</td>\n",
       "      <td>1194094</td>\n",
       "      <td>Receitas Brutas Realizadas</td>\n",
       "      <td>1.7.2.8.01.3.0 Cota-Parte do IPI - Municípios</td>\n",
       "      <td>7.103479e+06</td>\n",
       "    </tr>\n",
       "  </tbody>\n",
       "</table>\n",
       "</div>"
      ],
      "text/plain": [
       "                                  Instituição  Cod.IBGE  UF  População  \\\n",
       "445255  Prefeitura Municipal de Campinas - SP    350950  SP    1194094   \n",
       "445311  Prefeitura Municipal de Campinas - SP    350950  SP    1194094   \n",
       "445312  Prefeitura Municipal de Campinas - SP    350950  SP    1194094   \n",
       "445337  Prefeitura Municipal de Campinas - SP    350950  SP    1194094   \n",
       "445338  Prefeitura Municipal de Campinas - SP    350950  SP    1194094   \n",
       "445339  Prefeitura Municipal de Campinas - SP    350950  SP    1194094   \n",
       "\n",
       "                            Coluna  \\\n",
       "445255  Receitas Brutas Realizadas   \n",
       "445311  Receitas Brutas Realizadas   \n",
       "445312  Receitas Brutas Realizadas   \n",
       "445337  Receitas Brutas Realizadas   \n",
       "445338  Receitas Brutas Realizadas   \n",
       "445339  Receitas Brutas Realizadas   \n",
       "\n",
       "                                                    Conta         Valor  \n",
       "445255  1.1.1.3.03.0.0 - Imposto sobre a Renda - Retid...  2.742424e+08  \n",
       "445311  1.7.1.8.01.2.0 Cota-Parte do Fundo de Particip...  7.843389e+07  \n",
       "445312  1.7.1.8.01.5.0 Cota-Parte do Imposto Sobre a P...  2.033222e+06  \n",
       "445337                  1.7.2.8.01.1.0 Cota-Parte do ICMS  1.002212e+09  \n",
       "445338                  1.7.2.8.01.2.0 Cota-Parte do IPVA  3.044816e+08  \n",
       "445339      1.7.2.8.01.3.0 Cota-Parte do IPI - Municípios  7.103479e+06  "
      ]
     },
     "execution_count": 25,
     "metadata": {},
     "output_type": "execute_result"
    }
   ],
   "source": [
    "#B) TRANSFERÊNCIAS (quota-parte do FPM + quota-parte do ITR + quota-parte da Lei Kandir + IRRF + quota-parte do ICMS + \n",
    "#quota-parte do IPVA + quota-parte do IPI Exportação)\n",
    "\n",
    "f_rec19[f_rec19['Cod.IBGE'] == 350950][f_rec19['Coluna'] == 'Receitas Brutas Realizadas'][f_rec19['Conta'].str.match('1.7.1.8.01.2.0 Cota-Parte do Fundo de Participação dos Municípios - Cota Mensal')\n",
    "                                       | f_rec19['Conta'].str.match('1.7.1.8.01.5.0 Cota-Parte do Imposto Sobre a Propriedade Territorial Rural')\n",
    "                                       | f_rec19['Conta'].str.match('1.1.1.3.03.0.0 - Imposto sobre a Renda - Retido na Fonte')\n",
    "                                       | f_rec19['Conta'].str.match('1.7.2.8.01.1.0 Cota-Parte do ICMS')\n",
    "                                       | f_rec19['Conta'].str.match('1.7.2.8.01.2.0 Cota-Parte do IPVA')\n",
    "                                       | f_rec19['Conta'].str.match('1.7.2.8.01.3.0 Cota-Parte do IPI - Municípios')]\n",
    "\n",
    "# Lei Kandir (Lei Complementar 87/96)"
   ]
  },
  {
   "cell_type": "code",
   "execution_count": 16,
   "id": "1b623eb7",
   "metadata": {},
   "outputs": [],
   "source": [
    "#C) OUTRAS RECEITAS CORRENTES: observar alterações na forma como o Finbra apresenta as receitas com multas e juros sobre \n",
    "#dívidas nos anos de 2017 e 2018-2020 (Dos Santos et al., 2020)"
   ]
  },
  {
   "cell_type": "markdown",
   "id": "7f5a7543",
   "metadata": {},
   "source": [
    "## SIOPE (se)"
   ]
  },
  {
   "cell_type": "code",
   "execution_count": null,
   "id": "081bc003",
   "metadata": {},
   "outputs": [],
   "source": []
  }
 ],
 "metadata": {
  "kernelspec": {
   "display_name": "Python 3",
   "language": "python",
   "name": "python3"
  },
  "language_info": {
   "codemirror_mode": {
    "name": "ipython",
    "version": 3
   },
   "file_extension": ".py",
   "mimetype": "text/x-python",
   "name": "python",
   "nbconvert_exporter": "python",
   "pygments_lexer": "ipython3",
   "version": "3.8.8"
  }
 },
 "nbformat": 4,
 "nbformat_minor": 5
}
